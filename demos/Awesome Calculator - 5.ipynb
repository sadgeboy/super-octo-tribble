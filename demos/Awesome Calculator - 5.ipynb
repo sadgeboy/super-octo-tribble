{
 "cells": [
  {
   "cell_type": "code",
   "execution_count": 9,
   "metadata": {},
   "outputs": [
    {
     "name": "stdout",
     "output_type": "stream",
     "text": [
      "\\frac{\\partial}{\\partial x} u{\\left(x,y,z \\right)}\n"
     ]
    }
   ],
   "source": [
    "from sympy import *\n",
    "from sympy.printing.mathml import mathml\n",
    "init_printing(use_unicode=True) # allow LaTeX printing\n",
    "\n",
    "# independent variables\n",
    "x, y, z = symbols('x y z', real = True)\n",
    "\n",
    "# parameters\n",
    "nu, rho = symbols('nu rho', real = True, constant = True, positive = True)\n",
    "\n",
    "# dependent variables\n",
    "u, v, w = symbols('u v w', real = True, cls = Function)\n",
    "\n",
    "print(latex(diff(u(x,y,z),x)))"
   ]
  },
  {
   "cell_type": "code",
   "execution_count": 3,
   "metadata": {},
   "outputs": [
    {
     "data": {
      "image/png": "[encoded data removed]",
      "text/latex": [
       "$\\displaystyle \\frac{d}{d x} \\frac{\\sin{\\left(x \\right)}}{x}$"
      ],
      "text/plain": [
       "d ⎛sin(x)⎞\n",
       "──⎜──────⎟\n",
       "dx⎝  x   ⎠"
      ]
     },
     "execution_count": 3,
     "metadata": {},
     "output_type": "execute_result"
    }
   ],
   "source": [
    "a"
   ]
  },
  {
   "cell_type": "code",
   "execution_count": 2,
   "metadata": {},
   "outputs": [
    {
     "data": {
      "image/png": "[encoded data removed]",
      "text/latex": [
       "$$\\frac{1}{x} \\cos{\\left (x \\right )} - \\frac{1}{x^{2}} \\sin{\\left (x \\right )}$$"
      ],
      "text/plain": [
       "cos(x)   sin(x)\n",
       "────── - ──────\n",
       "  x         2  \n",
       "           x   "
      ]
     },
     "execution_count": 2,
     "metadata": {},
     "output_type": "execute_result"
    }
   ],
   "source": [
    "Derivative(sin(x)/x, x).doit()"
   ]
  }
 ],
 "metadata": {
  "kernelspec": {
   "display_name": "Python 3 (ipykernel)",
   "language": "python",
   "name": "python3"
  },
  "language_info": {
   "codemirror_mode": {
    "name": "ipython",
    "version": 3
   },
   "file_extension": ".py",
   "mimetype": "text/x-python",
   "name": "python",
   "nbconvert_exporter": "python",
   "pygments_lexer": "ipython3",
   "version": "3.9.7"
  }
 },
 "nbformat": 4,
 "nbformat_minor": 1
}
