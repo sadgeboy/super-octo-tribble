{
 "cells": [
  {
   "cell_type": "code",
   "execution_count": 1,
   "metadata": {},
   "outputs": [
    {
     "name": "stdout",
     "output_type": "stream",
     "text": [
      "2*x\n"
     ]
    }
   ],
   "source": [
    "# One of the basic ideas in SymPy is that of a\n",
    "# Symbol object. If we want to tell Python that\n",
    "# treat \"x\" as \"x\", we create a Symbol object to\n",
    "# passing 'x' as an argument\n",
    "\n",
    "from sympy import Symbol\n",
    "\n",
    "x = Symbol('x')\n",
    "\n",
    "y = Symbol('x')\n",
    "\n",
    "print(x+y)"
   ]
  }
 ],
 "metadata": {
  "kernelspec": {
   "display_name": "Python 3 (ipykernel)",
   "language": "python",
   "name": "python3"
  },
  "language_info": {
   "codemirror_mode": {
    "name": "ipython",
    "version": 3
   },
   "file_extension": ".py",
   "mimetype": "text/x-python",
   "name": "python",
   "nbconvert_exporter": "python",
   "pygments_lexer": "ipython3",
   "version": "3.9.7"
  }
 },
 "nbformat": 4,
 "nbformat_minor": 1
}
