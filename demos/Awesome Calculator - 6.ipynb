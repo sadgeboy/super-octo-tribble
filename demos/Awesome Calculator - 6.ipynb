{
 "cells": [
  {
   "cell_type": "code",
   "execution_count": 22,
   "metadata": {},
   "outputs": [],
   "source": [
    "from sympy import Symbol, Integral, sin, init_printing\n",
    "from sympy.printing.mathml import mathml\n",
    "\n"
   ]
  },
  {
   "cell_type": "code",
   "execution_count": 23,
   "metadata": {},
   "outputs": [
    {
     "name": "stdout",
     "output_type": "stream",
     "text": [
      "\\int 2 x^{4}\\, dx\n"
     ]
    }
   ],
   "source": [
    "x = Symbol('x', real= True)\n",
    "\n",
    "a = 2\n",
    "n = 4\n",
    "init_printing(use_unicode=True)\n",
    "\n",
    "print('latex(Integral(a*x**n))'$')"
   ]
  },
  {
   "cell_type": "code",
   "execution_count": 24,
   "metadata": {},
   "outputs": [
    {
     "data": {
      "image/png": "[encoded data removed]",
      "text/latex": [
       "$\\displaystyle x + 9 \\log{\\left(x \\right)} - \\frac{9 \\log{\\left(x^{2} + 3 \\right)}}{2} - \\sqrt{3} \\operatorname{atan}{\\left(\\frac{\\sqrt{3} x}{3} \\right)}$"
      ],
      "text/plain": [
       "                    ⎛ 2    ⎞                \n",
       "               9⋅log⎝x  + 3⎠          ⎛√3⋅x⎞\n",
       "x + 9⋅log(x) - ───────────── - √3⋅atan⎜────⎟\n",
       "                     2                ⎝ 3  ⎠"
      ]
     },
     "execution_count": 24,
     "metadata": {},
     "output_type": "execute_result"
    }
   ],
   "source": [
    "Integral((x**3+27)/(x**3+3*x)).doit()"
   ]
  },
  {
   "cell_type": "code",
   "execution_count": 3,
   "metadata": {},
   "outputs": [
    {
     "ename": "NameError",
     "evalue": "name 'latex' is not defined",
     "output_type": "error",
     "traceback": [
      "\u001b[0;31m---------------------------------------------------------------------------\u001b[0m",
      "\u001b[0;31mNameError\u001b[0m                                 Traceback (most recent call last)",
      "Input \u001b[0;32mIn [3]\u001b[0m, in \u001b[0;36m<cell line: 1>\u001b[0;34m()\u001b[0m\n\u001b[0;32m----> 1\u001b[0m \u001b[38;5;28mprint\u001b[39m(\u001b[43mlatex\u001b[49m(Integral(x\u001b[38;5;241m*\u001b[39msin(x))))\n",
      "\u001b[0;31mNameError\u001b[0m: name 'latex' is not defined"
     ]
    }
   ],
   "source": []
  }
 ],
 "metadata": {
  "kernelspec": {
   "display_name": "Python 3 (ipykernel)",
   "language": "python",
   "name": "python3"
  },
  "language_info": {
   "codemirror_mode": {
    "name": "ipython",
    "version": 3
   },
   "file_extension": ".py",
   "mimetype": "text/x-python",
   "name": "python",
   "nbconvert_exporter": "python",
   "pygments_lexer": "ipython3",
   "version": "3.9.7"
  }
 },
 "nbformat": 4,
 "nbformat_minor": 1
}
