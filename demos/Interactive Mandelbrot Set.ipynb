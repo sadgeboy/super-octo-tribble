{
 "cells": [
  {
   "cell_type": "code",
   "execution_count": 8,
   "metadata": {
    "collapsed": false,
    "slideshow": {
     "slide_type": "-"
    }
   },
   "outputs": [
    {
     "data": {
      "image/png": "[encoded data removed]",
      "text/plain": [
       "<matplotlib.figure.Figure at 0x1103ee048>"
      ]
     },
     "metadata": {},
     "output_type": "display_data"
    }
   ],
   "source": [
    "# Interactive version of the \"Mandelbrot Set\" - solution to challenge in \n",
    "# \"Doing Math with Python\", chapter 6\n",
    "%matplotlib inline\n",
    "'''\n",
    "mandelbrot.py\n",
    "\n",
    "Draw a Mandelbrot set\n",
    "\n",
    "Using \"Escape time algorithm\" from:\n",
    "http://en.wikipedia.org/wiki/Mandelbrot_set#Computer_drawings\n",
    "\n",
    "Thanks to http://www.vallis.org/salon/summary-10.html for some important\n",
    "ideas for implementation.\n",
    "\n",
    "'''\n",
    "from ipywidgets import interact\n",
    "import ipywidgets as widgets\n",
    "\n",
    "\n",
    "import matplotlib.pyplot as plt\n",
    "import matplotlib.cm as cm\n",
    "\n",
    "# Subset of the complex plane we are considering\n",
    "x0, x1 = -2.5, 1\n",
    "y0, y1 = -1, 1\n",
    "\n",
    "def initialize_image(x_p, y_p):\n",
    "    image = []\n",
    "    for i in range(y_p):\n",
    "        x_colors = []\n",
    "        for j in range(x_p):\n",
    "            x_colors.append(0)\n",
    "        image.append(x_colors)\n",
    "    return image\n",
    "\n",
    "def mandelbrot_set(n, max_iterations):\n",
    "    image = initialize_image(n, n)\n",
    "    \n",
    "    # Generate a set of equally spaced points in the region\n",
    "    # above\n",
    "    dx = (x1-x0)/(n-1)\n",
    "    dy = (y1-y0)/(n-1)\n",
    "    x_coords = [x0 + i*dx for i in range(n)]\n",
    "    y_coords = [y0 + i*dy for i in range(n)]\n",
    "\n",
    "    for i, x in enumerate(x_coords):\n",
    "        for k, y in enumerate(y_coords):\n",
    "            z1 = complex(0, 0)\n",
    "            iteration = 0\n",
    "            c = complex(x, y)\n",
    "            while (abs(z1) < 2  and iteration < max_iterations):\n",
    "                z1 = z1**2 + c\n",
    "                iteration += 1\n",
    "            image[k][i] = iteration\n",
    "    return image\n",
    "\n",
    "\n",
    "def draw_mandelbrot(n, max_iterations):\n",
    "    image = mandelbrot_set(n, max_iterations)\n",
    "    plt.imshow(image, origin='lower', extent=(x0, x1, y0,y1),\n",
    "               cmap=cm.Greys_r, interpolation='nearest')\n",
    "    plt.show()\n",
    "    \n",
    "\n",
    "# Allow interaction via the interact() function and an Integer slider widget\n",
    "i = interact(draw_mandelbrot, \n",
    "             n=widgets.IntSlider(min=100, max=600,step=1,value=10), \n",
    "             max_iterations=widgets.IntSlider(min=100, max=10000,step=1,value=10),\n",
    "             # This keyword argument adds a button so that the drawing happens\n",
    "             # only when the button is clicked\n",
    "             __manual=True\n",
    "             )"
   ]
  },
  {
   "cell_type": "code",
   "execution_count": null,
   "metadata": {
    "collapsed": true
   },
   "outputs": [],
   "source": []
  }
 ],
 "metadata": {
  "kernelspec": {
   "display_name": "Python 3",
   "language": "python",
   "name": "python3"
  },
  "language_info": {
   "codemirror_mode": {
    "name": "ipython",
    "version": 3
   },
   "file_extension": ".py",
   "mimetype": "text/x-python",
   "name": "python",
   "nbconvert_exporter": "python",
   "pygments_lexer": "ipython3",
   "version": "3.5.2"
  }
 },
 "nbformat": 4,
 "nbformat_minor": 0
}
