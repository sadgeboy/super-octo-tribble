{
 "cells": [
  {
   "cell_type": "markdown",
   "metadata": {},
   "source": [
    "# Scientific calculator"
   ]
  },
  {
   "cell_type": "code",
   "execution_count": 13,
   "metadata": {
    "collapsed": false
   },
   "outputs": [
    {
     "data": {
      "text/plain": [
       "2"
      ]
     },
     "execution_count": 13,
     "metadata": {},
     "output_type": "execute_result"
    }
   ],
   "source": [
    "# Demo of some functions from the math module\n",
    "# Please see: https://docs.python.org/3/library/math.html\n",
    "\n",
    "import math\n",
    "\n",
    "# Find the greatest common divisor of 100 and 98\n",
    "\n",
    "math.gcd(100, 98)\n"
   ]
  },
  {
   "cell_type": "code",
   "execution_count": 14,
   "metadata": {
    "collapsed": false
   },
   "outputs": [
    {
     "data": {
      "text/plain": [
       "16507955160908461081216919262453619309839666236496541854913520707833171034378509739399912570787600662729080382999756800000000000000000000"
      ]
     },
     "execution_count": 14,
     "metadata": {},
     "output_type": "execute_result"
    }
   ],
   "source": [
    "# Find the factorial\n",
    "\n",
    "math.factorial(89)"
   ]
  },
  {
   "cell_type": "markdown",
   "metadata": {},
   "source": [
    "### Validate simple known results\n",
    "\n",
    "$$ sin^2{\\theta} + cos^2{\\theta} = 1 $$\n"
   ]
  },
  {
   "cell_type": "code",
   "execution_count": 15,
   "metadata": {
    "collapsed": false
   },
   "outputs": [
    {
     "data": {
      "text/plain": [
       "1.0"
      ]
     },
     "execution_count": 15,
     "metadata": {},
     "output_type": "execute_result"
    }
   ],
   "source": [
    "theta = 60 # degrees\n",
    "\n",
    "theta_radians = math.radians(theta)\n",
    "\n",
    "math.sin(theta_radians)**2 + math.cos(theta_radians)**2"
   ]
  },
  {
   "cell_type": "code",
   "execution_count": 16,
   "metadata": {
    "collapsed": false
   },
   "outputs": [
    {
     "data": {
      "text/plain": [
       "8.375"
      ]
     },
     "execution_count": 16,
     "metadata": {},
     "output_type": "execute_result"
    }
   ],
   "source": [
    "# Demo of the statistics module\n",
    "# Please see: https://docs.python.org/3/library/statistics.html#module-statistics\n",
    "\n",
    "import statistics\n",
    "\n",
    "# Find the mean and median\n",
    "\n",
    "data = [1, 2.3, 10.1, 20.1]\n",
    "\n",
    "statistics.mean(data)\n"
   ]
  },
  {
   "cell_type": "code",
   "execution_count": 17,
   "metadata": {
    "collapsed": false
   },
   "outputs": [
    {
     "data": {
      "text/plain": [
       "6.199999999999999"
      ]
     },
     "execution_count": 17,
     "metadata": {},
     "output_type": "execute_result"
    }
   ],
   "source": [
    "# Find the median\n",
    "\n",
    "statistics.median(data)\n"
   ]
  },
  {
   "cell_type": "markdown",
   "metadata": {},
   "source": [
    "### Extending the battery\n",
    "\n",
    "- Develop your own functions: unit conversion, finding correlation, .., anything really\n",
    "\n",
    "- Use PYTHONSTARTUP to extend the battery of readily available mathematical functions when you start the Python interpreter\n",
    "\n",
    "```python\n",
    "$ PYTHONSTARTUP=~/pycon-au-2016/py-files/startup_math.py idle3 -s\n",
    "```"
   ]
  }
 ],
 "metadata": {
  "kernelspec": {
   "display_name": "Python [Root]",
   "language": "python",
   "name": "Python [Root]"
  },
  "language_info": {
   "codemirror_mode": {
    "name": "ipython",
    "version": 3
   },
   "file_extension": ".py",
   "mimetype": "text/x-python",
   "name": "python",
   "nbconvert_exporter": "python",
   "pygments_lexer": "ipython3",
   "version": "3.5.2"
  }
 },
 "nbformat": 4,
 "nbformat_minor": 0
}
