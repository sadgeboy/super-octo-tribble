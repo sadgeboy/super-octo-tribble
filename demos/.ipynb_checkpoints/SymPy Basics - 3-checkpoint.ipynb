{
 "cells": [
  {
   "cell_type": "code",
   "execution_count": 1,
   "metadata": {
    "collapsed": false
   },
   "outputs": [
    {
     "name": "stdout",
     "output_type": "stream",
     "text": [
      "Enter an expression: 2*x**2 + 3*x + 1\n",
      "(x + 1)*(2*x + 1)\n"
     ]
    }
   ],
   "source": [
    "# To allow user to input expressions, we use the input()\n",
    "# function and then we convert the expression (a string)\n",
    "# to a form understandable by SymPy using sympify() function\n",
    "\n",
    "from sympy import sympify\n",
    "\n",
    "# This is a string\n",
    "expr = input('Enter an expression: ')\n",
    "\n",
    "# Now this is in a form understood by SymPy\n",
    "\n",
    "expr_sympified = sympify(expr)\n",
    "\n",
    "# Let's factorize this expression\n",
    "\n",
    "from sympy import factor\n",
    "\n",
    "print(factor(expr_sympified))\n",
    "\n",
    "\n",
    "\n"
   ]
  },
  {
   "cell_type": "code",
   "execution_count": null,
   "metadata": {
    "collapsed": true
   },
   "outputs": [],
   "source": []
  }
 ],
 "metadata": {
  "anaconda-cloud": {},
  "kernelspec": {
   "display_name": "Python [Root]",
   "language": "python",
   "name": "Python [Root]"
  },
  "language_info": {
   "codemirror_mode": {
    "name": "ipython",
    "version": 3
   },
   "file_extension": ".py",
   "mimetype": "text/x-python",
   "name": "python",
   "nbconvert_exporter": "python",
   "pygments_lexer": "ipython3",
   "version": "3.5.2"
  }
 },
 "nbformat": 4,
 "nbformat_minor": 0
}
