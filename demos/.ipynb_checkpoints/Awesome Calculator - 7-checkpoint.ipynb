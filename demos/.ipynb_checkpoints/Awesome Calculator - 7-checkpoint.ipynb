{
 "cells": [
  {
   "cell_type": "code",
   "execution_count": 1,
   "metadata": {
    "collapsed": false
   },
   "outputs": [
    {
     "data": {
      "image/png": "[encoded data removed]",
      "text/latex": [
       "$$\\int_{0}^{2} x \\sin{\\left (x \\right )}\\, dx$$"
      ],
      "text/plain": [
       "2            \n",
       "⌠            \n",
       "⎮ x⋅sin(x) dx\n",
       "⌡            \n",
       "0            "
      ]
     },
     "execution_count": 1,
     "metadata": {},
     "output_type": "execute_result"
    }
   ],
   "source": [
    "# Definite integral of x*sin(x), 0<=x<=2\n",
    "\n",
    "from sympy import Symbol, Integral, sin, init_printing\n",
    "\n",
    "x = Symbol('x')\n",
    "\n",
    "init_printing()\n",
    "\n",
    "Integral(x*sin(x), (x, 0, 2))"
   ]
  },
  {
   "cell_type": "code",
   "execution_count": 2,
   "metadata": {
    "collapsed": false
   },
   "outputs": [
    {
     "data": {
      "image/png": "[encoded data removed]",
      "text/latex": [
       "$$- 2 \\cos{\\left (2 \\right )} + \\sin{\\left (2 \\right )}$$"
      ],
      "text/plain": [
       "-2⋅cos(2) + sin(2)"
      ]
     },
     "execution_count": 2,
     "metadata": {},
     "output_type": "execute_result"
    }
   ],
   "source": [
    "Integral(x*sin(x), (x, 0, 2)).doit()"
   ]
  },
  {
   "cell_type": "code",
   "execution_count": 3,
   "metadata": {
    "collapsed": false
   },
   "outputs": [
    {
     "data": {
      "image/png": "[encoded data removed]",
      "text/latex": [
       "$$1.74159109991997$$"
      ],
      "text/plain": [
       "1.74159109991997"
      ]
     },
     "execution_count": 3,
     "metadata": {},
     "output_type": "execute_result"
    }
   ],
   "source": [
    "# Convert this into a floating point \"single\" result\n",
    "Integral(x*sin(x), (x, 0, 2)).doit().evalf()"
   ]
  }
 ],
 "metadata": {
  "kernelspec": {
   "display_name": "Python 3",
   "language": "python",
   "name": "python3"
  },
  "language_info": {
   "codemirror_mode": {
    "name": "ipython",
    "version": 3
   },
   "file_extension": ".py",
   "mimetype": "text/x-python",
   "name": "python",
   "nbconvert_exporter": "python",
   "pygments_lexer": "ipython3",
   "version": "3.5.2"
  }
 },
 "nbformat": 4,
 "nbformat_minor": 0
}
