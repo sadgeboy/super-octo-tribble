{
 "cells": [
  {
   "cell_type": "code",
   "execution_count": 3,
   "metadata": {
    "collapsed": false
   },
   "outputs": [
    {
     "name": "stdout",
     "output_type": "stream",
     "text": [
      "Enter the inequality to solve: sin(x) + 1 <= 0\n",
      "{-pi/2, 3*pi/2}\n"
     ]
    }
   ],
   "source": [
    "# Solve inequalities\n",
    "\n",
    "'''\n",
    "isolve.py\n",
    "\n",
    "Single variable inequality solver\n",
    "'''\n",
    "\n",
    "from sympy import Symbol, sympify, SympifyError\n",
    "from sympy import solve_poly_inequality, solve_rational_inequalities\n",
    "from sympy import solve_univariate_inequality, Poly\n",
    "from sympy.core.relational import Relational, Equality\n",
    "\n",
    "def isolve(ineq_obj):\n",
    "    x = Symbol('x')\n",
    "\n",
    "    expr = ineq_obj.lhs\n",
    "    \n",
    "    rel = ineq_obj.rel_op\n",
    "    \n",
    "    if expr.is_polynomial():\n",
    "        p = Poly(expr, x)\n",
    "        return solve_poly_inequality(p, rel)\n",
    "    elif expr.is_rational_function():\n",
    "        p1, p2 = expr.as_numer_denom()\n",
    "        num  = Poly(p1)\n",
    "        denom = Poly(p2)\n",
    "        return solve_rational_inequalities([[((num, denom), rel)]])\n",
    "    else:\n",
    "        return solve_univariate_inequality(ineq_obj , x, relational=False)\n",
    "\n",
    "ineq = input('Enter the inequality to solve: ')\n",
    "try:\n",
    "    ineq_obj = sympify(ineq)\n",
    "except SympifyError:\n",
    "    print('Invalid inequality')\n",
    "else:\n",
    "    # We check if the input expression is an inequality here\n",
    "    if isinstance(ineq_obj, Relational) and not isinstance(ineq_obj, Equality):\n",
    "        print(isolve(ineq_obj))\n",
    "    else:\n",
    "        print('Invalid inequality')"
   ]
  },
  {
   "cell_type": "code",
   "execution_count": null,
   "metadata": {
    "collapsed": true
   },
   "outputs": [],
   "source": []
  }
 ],
 "metadata": {
  "kernelspec": {
   "display_name": "Python [Root]",
   "language": "python",
   "name": "Python [Root]"
  },
  "language_info": {
   "codemirror_mode": {
    "name": "ipython",
    "version": 3
   },
   "file_extension": ".py",
   "mimetype": "text/x-python",
   "name": "python",
   "nbconvert_exporter": "python",
   "pygments_lexer": "ipython3",
   "version": "3.5.2"
  }
 },
 "nbformat": 4,
 "nbformat_minor": 0
}
