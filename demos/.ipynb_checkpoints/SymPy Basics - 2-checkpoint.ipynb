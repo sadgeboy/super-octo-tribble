{
 "cells": [
  {
   "cell_type": "code",
   "execution_count": 1,
   "metadata": {
    "collapsed": false
   },
   "outputs": [
    {
     "name": "stdout",
     "output_type": "stream",
     "text": [
      "5\n"
     ]
    }
   ],
   "source": [
    "# Next, we may want to \"evaluate\" the value of an algebraic expression\n",
    "\n",
    "from sympy import Symbol\n",
    "\n",
    "x = Symbol('x')\n",
    "\n",
    "expr = 2*x + 3*x**2\n",
    "\n",
    "# now evaluate expr using subs() method\n",
    "\n",
    "expr_val = expr.subs({x:1})\n",
    "\n",
    "print(expr_val)"
   ]
  }
 ],
 "metadata": {
  "kernelspec": {
   "display_name": "Python 3",
   "language": "python",
   "name": "python3"
  },
  "language_info": {
   "codemirror_mode": {
    "name": "ipython",
    "version": 3
   },
   "file_extension": ".py",
   "mimetype": "text/x-python",
   "name": "python",
   "nbconvert_exporter": "python",
   "pygments_lexer": "ipython3",
   "version": "3.5.2"
  }
 },
 "nbformat": 4,
 "nbformat_minor": 0
}
